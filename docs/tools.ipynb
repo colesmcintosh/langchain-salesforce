{
 "cells": [
  {
   "cell_type": "markdown",
   "id": "563f3174",
   "metadata": {},
   "source": [
    "# Salesforce Integration Notebook\n",
    "\n",
    "This notebook provides examples of interacting with Salesforce using LangChain.\n",
    "\n",
    "## Prerequisites\n",
    "- Ensure your Salesforce credentials are set as environment variables.\n",
    "- Install the required dependencies with `pip install langchain-salesforce`.\n",
    "\n"
   ]
  },
  {
   "cell_type": "code",
   "execution_count": null,
   "id": "117ecaf8",
   "metadata": {},
   "outputs": [],
   "source": [
    "# Import necessary libraries\n",
    "import os\n",
    "from langchain_salesforce import SalesforceTool\n",
    "\n",
    "# Configure Salesforce credentials (use environment variables or set manually)\n",
    "username = os.getenv(\"SALESFORCE_USERNAME\", \"your-username\")\n",
    "password = os.getenv(\"SALESFORCE_PASSWORD\", \"your-password\")\n",
    "security_token = os.getenv(\"SALESFORCE_SECURITY_TOKEN\", \"your-security-token\")\n",
    "domain = os.getenv(\"SALESFORCE_DOMAIN\", \"login\")\n",
    "\n",
    "# Initialize the Salesforce tool\n",
    "tool = SalesforceTool(\n",
    "    username=username,\n",
    "    password=password,\n",
    "    security_token=security_token,\n",
    "    domain=domain\n",
    ")"
   ]
  },
  {
   "cell_type": "code",
   "execution_count": null,
   "id": "e75623af",
   "metadata": {},
   "outputs": [],
   "source": [
    "# Helper function to execute Salesforce operations\n",
    "def execute_salesforce_operation(operation, object_name=None, query=None, record_data=None, record_id=None):\n",
    "    \"\"\"Executes a given Salesforce operation.\"\"\"\n",
    "    request = {\"operation\": operation}\n",
    "    if object_name:\n",
    "        request[\"object_name\"] = object_name\n",
    "    if query:\n",
    "        request[\"query\"] = query\n",
    "    if record_data:\n",
    "        request[\"record_data\"] = record_data\n",
    "    if record_id:\n",
    "        request[\"record_id\"] = record_id\n",
    "    \n",
    "    result = tool.run(request)\n",
    "    return result"
   ]
  },
  {
   "cell_type": "markdown",
   "id": "d761883a",
   "metadata": {},
   "source": [
    "## Query Contacts\n",
    "This example retrieves a list of contacts from Salesforce."
   ]
  },
  {
   "cell_type": "code",
   "execution_count": null,
   "id": "5fb2e42b",
   "metadata": {},
   "outputs": [],
   "source": [
    "# Query contacts\n",
    "query_result = execute_salesforce_operation(\"query\", query=\"SELECT Id, Name, Email FROM Contact LIMIT 5\")\n",
    "print(\"Query Result:\", query_result)"
   ]
  },
  {
   "cell_type": "markdown",
   "id": "b917c89e",
   "metadata": {},
   "source": [
    "## Describe an Object\n",
    "Fetches metadata for a specific Salesforce object."
   ]
  },
  {
   "cell_type": "code",
   "execution_count": null,
   "id": "ef6ca50c",
   "metadata": {},
   "outputs": [],
   "source": [
    "# Describe an object\n",
    "describe_result = execute_salesforce_operation(\"describe\", object_name=\"Account\")\n",
    "print(\"Describe Result:\", describe_result)"
   ]
  },
  {
   "cell_type": "markdown",
   "id": "40ed4656",
   "metadata": {},
   "source": [
    "## List Available Objects\n",
    "Retrieves all objects available in the Salesforce instance."
   ]
  },
  {
   "cell_type": "code",
   "execution_count": null,
   "id": "a7114bbc",
   "metadata": {},
   "outputs": [],
   "source": [
    "# List all available objects\n",
    "list_objects_result = execute_salesforce_operation(\"list_objects\")\n",
    "print(\"List Objects Result:\", list_objects_result)"
   ]
  },
  {
   "cell_type": "markdown",
   "id": "6619fe12",
   "metadata": {},
   "source": [
    "## Create a New Contact\n",
    "Creates a new contact record in Salesforce."
   ]
  },
  {
   "cell_type": "code",
   "execution_count": null,
   "id": "1e15980d",
   "metadata": {},
   "outputs": [],
   "source": [
    "# Create a new contact\n",
    "create_result = execute_salesforce_operation(\n",
    "    \"create\", object_name=\"Contact\", record_data={\"LastName\": \"Doe\", \"Email\": \"doe@example.com\"}\n",
    ")\n",
    "print(\"Create Result:\", create_result)"
   ]
  },
  {
   "cell_type": "markdown",
   "id": "f8801882",
   "metadata": {},
   "source": [
    "## Update a Contact\n",
    "Updates an existing contact record."
   ]
  },
  {
   "cell_type": "code",
   "execution_count": null,
   "id": "2f4bd54c",
   "metadata": {},
   "outputs": [],
   "source": [
    "# Update an existing contact (replace with a valid record ID)\n",
    "update_result = execute_salesforce_operation(\n",
    "    \"update\", object_name=\"Contact\", record_id=\"003XXXXXXXXXXXXXXX\", record_data={\"Email\": \"updated@example.com\"}\n",
    ")\n",
    "print(\"Update Result:\", update_result)"
   ]
  },
  {
   "cell_type": "markdown",
   "id": "46dd7178",
   "metadata": {},
   "source": [
    "## Delete a Contact\n",
    "Deletes a contact record from Salesforce."
   ]
  },
  {
   "cell_type": "code",
   "execution_count": null,
   "id": "31830f80",
   "metadata": {},
   "outputs": [],
   "source": [
    "# Delete a contact (replace with a valid record ID)\n",
    "delete_result = execute_salesforce_operation(\"delete\", object_name=\"Contact\", record_id=\"003XXXXXXXXXXXXXXX\")\n",
    "print(\"Delete Result:\", delete_result)"
   ]
  }
 ],
 "metadata": {
  "kernelspec": {
   "display_name": "poetry-venv-311",
   "language": "python",
   "name": "poetry-venv-311"
  },
  "language_info": {
   "codemirror_mode": {
    "name": "ipython",
    "version": 3
   },
   "file_extension": ".py",
   "mimetype": "text/x-python",
   "name": "python",
   "nbconvert_exporter": "python",
   "pygments_lexer": "ipython3",
   "version": "3.11.9"
  }
 },
 "nbformat": 4,
 "nbformat_minor": 5
}
